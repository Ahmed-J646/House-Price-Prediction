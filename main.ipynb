{
 "cells": [
  {
   "cell_type": "code",
   "execution_count": null,
   "metadata": {},
   "outputs": [
    {
     "name": "stdout",
     "output_type": "stream",
     "text": [
      "Model Evaluation Metrics:\n",
      "Mean Squared Error (MSE): 2.2497059040459925e+31\n",
      "Mean Absolute Error (MAE): 330869672377681.75\n",
      "R² Score: -4.0127699908967195e+21\n"
     ]
    }
   ],
   "source": [
    "import pandas as pd\n",
    "from sklearn.impute import SimpleImputer\n",
    "from sklearn.preprocessing import StandardScaler\n",
    "from sklearn.linear_model import LinearRegression\n",
    "from sklearn.model_selection import train_test_split\n",
    "from sklearn.metrics import mean_squared_error, mean_absolute_error, r2_score\n",
    "\n",
    "# Load the dataset (replace 'your_dataset.csv' with the actual filename)\n",
    "data_set = pd.read_csv(\"train.csv\")\n",
    "\n",
    "# Drop unnecessary columns if needed (adjust based on your data)\n",
    "columns_to_drop = [\n",
    "    \"PID\", \"Street\", \"Alley\", \"Utilities\", \"Condition_2\", \"Roof_Matl\",\n",
    "    \"Heating\", \"Pool_QC\", \"Misc_Feature\", \"Longitude\", \"Latitude\"\n",
    "]\n",
    "data_set = data_set.drop(columns=columns_to_drop)\n",
    "\n",
    "# Encode categorical variables as binary or one-hot\n",
    "data_set = pd.get_dummies(data_set, drop_first=True)\n",
    "\n",
    "# Split features (X) and target (y)\n",
    "X = data_set.drop(columns=[\"Sale_Price\"])\n",
    "y = data_set[\"Sale_Price\"]\n",
    "\n",
    "# Check for and handle missing values\n",
    "imputer = SimpleImputer(strategy=\"mean\")\n",
    "X = pd.DataFrame(imputer.fit_transform(X), columns=X.columns)\n",
    "\n",
    "# Split data into training and testing sets\n",
    "X_train, X_test, y_train, y_test = train_test_split(X, y, test_size=0.2, random_state=42)\n",
    "\n",
    "# Convert boolean columns to integers (just in case)\n",
    "X_train = X_train.astype(int, errors='ignore')\n",
    "X_test = X_test.astype(int, errors='ignore')\n",
    "\n",
    "# Select only numeric columns for scaling\n",
    "num_cols = X_train.select_dtypes(include=[\"float64\", \"int64\"]).columns\n",
    "\n",
    "# Ensure no missing values in numeric columns\n",
    "X_train[num_cols] = X_train[num_cols].fillna(0)\n",
    "X_test[num_cols] = X_test[num_cols].fillna(0)\n",
    "\n",
    "# Ensure all numeric columns are float or int\n",
    "X_train[num_cols] = X_train[num_cols].astype(float)\n",
    "X_test[num_cols] = X_test[num_cols].astype(float)\n",
    "\n",
    "# Standardize numerical columns\n",
    "scaler = StandardScaler()\n",
    "X_train[num_cols] = scaler.fit_transform(X_train[num_cols])\n",
    "X_test[num_cols] = scaler.transform(X_test[num_cols])\n",
    "\n",
    "# Train a Linear Regression model\n",
    "model = LinearRegression()\n",
    "model.fit(X_train, y_train)\n",
    "\n",
    "# Predict on the test set\n",
    "y_pred = model.predict(X_test)\n",
    "\n",
    "# Evaluate the model\n",
    "mse = mean_squared_error(y_test, y_pred)\n",
    "mae = mean_absolute_error(y_test, y_pred)\n",
    "r2 = r2_score(y_test, y_pred)\n",
    "\n",
    "print(\"Model Evaluation Metrics:\")\n",
    "print(f\"Mean Squared Error (MSE): {mse}\")\n",
    "print(f\"Mean Absolute Error (MAE): {mae}\")\n",
    "print(f\"R² Score: {r2}\")\n"
   ]
  },
  {
   "cell_type": "code",
   "execution_count": 3,
   "metadata": {},
   "outputs": [],
   "source": [
    "import pickle\n",
    "\n",
    "# Assuming 'model' is your trained LinearRegression or other ML model\n",
    "with open(\"ames_model.pkl\", \"wb\") as file:\n",
    "    pickle.dump(model, file)\n"
   ]
  }
 ],
 "metadata": {
  "kernelspec": {
   "display_name": "Python 3",
   "language": "python",
   "name": "python3"
  },
  "language_info": {
   "codemirror_mode": {
    "name": "ipython",
    "version": 3
   },
   "file_extension": ".py",
   "mimetype": "text/x-python",
   "name": "python",
   "nbconvert_exporter": "python",
   "pygments_lexer": "ipython3",
   "version": "3.13.0"
  }
 },
 "nbformat": 4,
 "nbformat_minor": 2
}
